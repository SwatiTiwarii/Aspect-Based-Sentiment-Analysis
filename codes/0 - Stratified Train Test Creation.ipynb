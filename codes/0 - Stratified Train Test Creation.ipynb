{
 "cells": [
  {
   "cell_type": "markdown",
   "metadata": {},
   "source": [
    "# Train and Test data creation"
   ]
  },
  {
   "cell_type": "markdown",
   "metadata": {},
   "source": [
    "#### We are using data for resturant domain from SemEval 2014 competition"
   ]
  },
  {
   "cell_type": "code",
   "execution_count": 1,
   "metadata": {},
   "outputs": [],
   "source": [
    "import os\n",
    "import sys\n",
    "import pandas as pd\n",
    "import numpy as np\n",
    "import pickle\n",
    "from collections import Counter, defaultdict\n",
    "import re\n",
    "\n",
    "pd.set_option('display.max_colwidth' , -1)"
   ]
  },
  {
   "cell_type": "code",
   "execution_count": 2,
   "metadata": {},
   "outputs": [],
   "source": [
    "import xml.etree.ElementTree as ET\n",
    "tree = ET.parse('../data/Restaurants_Train.xml')\n",
    "root = tree.getroot()"
   ]
  },
  {
   "cell_type": "code",
   "execution_count": 3,
   "metadata": {},
   "outputs": [
    {
     "name": "stdout",
     "output_type": "stream",
     "text": [
      "there are 3044 reviews in this training set\n"
     ]
    }
   ],
   "source": [
    "labeled_reviews = []\n",
    "for sentence in root.findall(\"sentence\"):\n",
    "    entry= {}\n",
    "    aspects = []\n",
    "    polarities = [] \n",
    "\n",
    "    if sentence.find(\"aspectCategories\"):\n",
    "\n",
    "        for aspect in sentence.find(\"aspectCategories\").findall(\"aspectCategory\"):\n",
    "  \n",
    "            aspects.append(aspect.get(\"category\"))\n",
    "            polarities.append(aspect.get(\"polarity\"))\n",
    "    \n",
    "    entry[\"text\"] = sentence[0].text\n",
    "    entry[\"aspects\"] , entry['polarities']  =  aspects , polarities\n",
    "    labeled_reviews.append(entry)\n",
    "            \n",
    "multi_aspects = pd.DataFrame(labeled_reviews)\n",
    "print(\"there are\",len(labeled_reviews),\"reviews in this training set\")"
   ]
  },
  {
   "cell_type": "code",
   "execution_count": 4,
   "metadata": {},
   "outputs": [
    {
     "data": {
      "text/html": [
       "<div>\n",
       "<style scoped>\n",
       "    .dataframe tbody tr th:only-of-type {\n",
       "        vertical-align: middle;\n",
       "    }\n",
       "\n",
       "    .dataframe tbody tr th {\n",
       "        vertical-align: top;\n",
       "    }\n",
       "\n",
       "    .dataframe thead th {\n",
       "        text-align: right;\n",
       "    }\n",
       "</style>\n",
       "<table border=\"1\" class=\"dataframe\">\n",
       "  <thead>\n",
       "    <tr style=\"text-align: right;\">\n",
       "      <th></th>\n",
       "      <th>aspects</th>\n",
       "      <th>polarities</th>\n",
       "      <th>text</th>\n",
       "    </tr>\n",
       "  </thead>\n",
       "  <tbody>\n",
       "    <tr>\n",
       "      <th>0</th>\n",
       "      <td>[service]</td>\n",
       "      <td>[negative]</td>\n",
       "      <td>But the staff was so horrible to us.</td>\n",
       "    </tr>\n",
       "    <tr>\n",
       "      <th>1</th>\n",
       "      <td>[food, anecdotes/miscellaneous]</td>\n",
       "      <td>[positive, negative]</td>\n",
       "      <td>To be completely fair, the only redeeming factor was the food, which was above average, but couldn't make up for all the other deficiencies of Teodora.</td>\n",
       "    </tr>\n",
       "    <tr>\n",
       "      <th>2</th>\n",
       "      <td>[food]</td>\n",
       "      <td>[positive]</td>\n",
       "      <td>The food is uniformly exceptional, with a very capable kitchen which will proudly whip up whatever you feel like eating, whether it's on the menu or not.</td>\n",
       "    </tr>\n",
       "    <tr>\n",
       "      <th>3</th>\n",
       "      <td>[service]</td>\n",
       "      <td>[positive]</td>\n",
       "      <td>Where Gabriela personaly greets you and recommends you what to eat.</td>\n",
       "    </tr>\n",
       "    <tr>\n",
       "      <th>4</th>\n",
       "      <td>[anecdotes/miscellaneous]</td>\n",
       "      <td>[positive]</td>\n",
       "      <td>For those that go once and don't enjoy it, all I can say is that they just don't get it.</td>\n",
       "    </tr>\n",
       "  </tbody>\n",
       "</table>\n",
       "</div>"
      ],
      "text/plain": [
       "                           aspects            polarities  \\\n",
       "0  [service]                        [negative]             \n",
       "1  [food, anecdotes/miscellaneous]  [positive, negative]   \n",
       "2  [food]                           [positive]             \n",
       "3  [service]                        [positive]             \n",
       "4  [anecdotes/miscellaneous]        [positive]             \n",
       "\n",
       "                                                                                                                                                        text  \n",
       "0  But the staff was so horrible to us.                                                                                                                       \n",
       "1  To be completely fair, the only redeeming factor was the food, which was above average, but couldn't make up for all the other deficiencies of Teodora.    \n",
       "2  The food is uniformly exceptional, with a very capable kitchen which will proudly whip up whatever you feel like eating, whether it's on the menu or not.  \n",
       "3  Where Gabriela personaly greets you and recommends you what to eat.                                                                                        \n",
       "4  For those that go once and don't enjoy it, all I can say is that they just don't get it.                                                                   "
      ]
     },
     "execution_count": 4,
     "metadata": {},
     "output_type": "execute_result"
    }
   ],
   "source": [
    "multi_aspects.head()"
   ]
  },
  {
   "cell_type": "markdown",
   "metadata": {},
   "source": [
    "#### Each review can have multiple aspects and sentiment. Create a stratified train test split based upon sentiment conflicts"
   ]
  },
  {
   "cell_type": "markdown",
   "metadata": {},
   "source": [
    "For test data we want to evaluate our model on statements with changing sentiment across same review. Therefore for non-changing reviews( review with same sentiment for all occuring aspects) we split train:test in ratio 80:20 . Whereas for changing reviews(changing sentiments across various aspects within same review) we split train: test in ratio 20:80. "
   ]
  },
  {
   "cell_type": "code",
   "execution_count": 5,
   "metadata": {},
   "outputs": [],
   "source": [
    "multi_aspects['length'] = multi_aspects['aspects'].apply(lambda x: len(x))\n",
    "multi_aspects['same_polarity'] = multi_aspects['polarities'].apply(lambda x: len(set(x)))\n",
    "multi_aspects['polarities'] = multi_aspects['polarities'].apply(lambda x: ' '.join(x))\n",
    "multi_aspects['aspects'] = multi_aspects['aspects'].apply(lambda x: ' '.join(x))\n",
    "multi_aspects = multi_aspects[~multi_aspects['polarities'].str.contains('conflict')]"
   ]
  },
  {
   "cell_type": "markdown",
   "metadata": {},
   "source": [
    "We are also keeping an indicator for reviews with changing sentiments within single review. Remember with changing sentiment we are focusing on polarities such as [positive negative], [negative neutral], [negative positive positive]  etc. \n",
    "We have already dropped the reviews which contains polarities as [conflict] from our dataset."
   ]
  },
  {
   "cell_type": "code",
   "execution_count": 6,
   "metadata": {},
   "outputs": [],
   "source": [
    "multi_aspects['ind'] = multi_aspects['same_polarity'].apply(lambda x: 1 if  x> 1 else 0 )"
   ]
  },
  {
   "cell_type": "code",
   "execution_count": 7,
   "metadata": {},
   "outputs": [
    {
     "data": {
      "text/plain": [
       "((2206, 5), (649, 5))"
      ]
     },
     "execution_count": 7,
     "metadata": {},
     "output_type": "execute_result"
    }
   ],
   "source": [
    "from sklearn.model_selection import train_test_split\n",
    "train1 , test1  = train_test_split(multi_aspects[multi_aspects['same_polarity']==1], test_size = 0.2 , random_state = 20)\n",
    "test2 , train2  = train_test_split(multi_aspects[multi_aspects['same_polarity']!=1] , test_size = 0.2 , random_state = 20)\n",
    "\n",
    "train_df = pd.concat([train1 , train2] , axis = 0)\n",
    "test_df = pd.concat([test1 , test2] , axis = 0)\n",
    "\n",
    "train_df.drop(columns = ['same_polarity'] , inplace = True)\n",
    "test_df.drop(columns = ['same_polarity'] , inplace = True)\n",
    "\n",
    "train_df.reset_index(inplace = True , drop = True)\n",
    "test_df.reset_index(inplace = True , drop = True)\n",
    "\n",
    "train_df.shape , test_df.shape"
   ]
  },
  {
   "cell_type": "code",
   "execution_count": 8,
   "metadata": {},
   "outputs": [],
   "source": [
    "def replace_brackets(string):\n",
    "    string = string.replace('(' , ' ')\n",
    "    string = string.replace(')' , ' ')\n",
    "    string = string.replace('[' , ' ')\n",
    "    string = string.replace(']' , ' ')\n",
    "    string = string.replace('$' , 'dollar ')\n",
    "    return string"
   ]
  },
  {
   "cell_type": "code",
   "execution_count": 9,
   "metadata": {},
   "outputs": [],
   "source": [
    "test_df['text'] = test_df['text'].apply(lambda x: replace_brackets(x))\n",
    "train_df['text'] = train_df['text'].apply(lambda x: replace_brackets(x))"
   ]
  },
  {
   "cell_type": "code",
   "execution_count": 10,
   "metadata": {},
   "outputs": [
    {
     "data": {
      "text/plain": [
       "0    0.988214\n",
       "1    0.011786\n",
       "Name: ind, dtype: float64"
      ]
     },
     "execution_count": 10,
     "metadata": {},
     "output_type": "execute_result"
    }
   ],
   "source": [
    "train_df.ind.value_counts(normalize = True)"
   ]
  },
  {
   "cell_type": "code",
   "execution_count": 11,
   "metadata": {},
   "outputs": [
    {
     "data": {
      "text/plain": [
       "0    0.841294\n",
       "1    0.158706\n",
       "Name: ind, dtype: float64"
      ]
     },
     "execution_count": 11,
     "metadata": {},
     "output_type": "execute_result"
    }
   ],
   "source": [
    "test_df.ind.value_counts(normalize = True)"
   ]
  },
  {
   "cell_type": "markdown",
   "metadata": {},
   "source": [
    "Because of unbalanced splits of train and test data , we have only 1 % training data for statements with change in sentiment but around 15% test data in same category"
   ]
  },
  {
   "cell_type": "code",
   "execution_count": 12,
   "metadata": {},
   "outputs": [],
   "source": [
    "test_df['aspects']  = test_df.aspects.apply(lambda x : x.split(' '))\n",
    "test_df['polarities']  = test_df.polarities.apply(lambda x : x.split(' '))"
   ]
  },
  {
   "cell_type": "code",
   "execution_count": 13,
   "metadata": {},
   "outputs": [
    {
     "data": {
      "text/plain": [
       "(868, 5)"
      ]
     },
     "execution_count": 13,
     "metadata": {},
     "output_type": "execute_result"
    }
   ],
   "source": [
    "asp_df = test_df.aspects.apply(pd.Series).merge(test_df , right_index = True , left_index = True)\\\n",
    ".drop(['aspects' , 'polarities'] ,axis = 1)\\\n",
    ".melt(id_vars = ['text','length' , 'ind']).drop(['variable'] , axis = 1).dropna()\n",
    "\n",
    "polarity_df = test_df.polarities.apply(pd.Series).merge(test_df , right_index = True , left_index = True)\\\n",
    ".drop(['aspects' , 'polarities'] ,axis = 1)\\\n",
    ".melt(id_vars = ['text','length' , 'ind']).drop(['variable'] , axis = 1).dropna()\n",
    "\n",
    "test_df_ungrp = pd.merge(asp_df , polarity_df[ 'value'] , left_index=True , right_index = True, suffixes=('_aspects' , '_polarities'))\n",
    "test_df_ungrp.shape"
   ]
  },
  {
   "cell_type": "code",
   "execution_count": 14,
   "metadata": {},
   "outputs": [],
   "source": [
    "test_df_ungrp.rename(columns={'value_aspects' : 'aspects' , 'value_polarities':'polarities'} , inplace=True)"
   ]
  },
  {
   "cell_type": "code",
   "execution_count": 15,
   "metadata": {},
   "outputs": [],
   "source": [
    "train_df['aspects']  = train_df.aspects.apply(lambda x : x.split(' '))\n",
    "train_df['polarities']  = train_df.polarities.apply(lambda x : x.split(' '))"
   ]
  },
  {
   "cell_type": "code",
   "execution_count": 16,
   "metadata": {},
   "outputs": [
    {
     "data": {
      "text/plain": [
       "(2604, 5)"
      ]
     },
     "execution_count": 16,
     "metadata": {},
     "output_type": "execute_result"
    }
   ],
   "source": [
    "asp_df = train_df.aspects.apply(pd.Series).merge(train_df , right_index = True , left_index = True)\\\n",
    ".drop(['aspects' , 'polarities'] ,axis = 1)\\\n",
    ".melt(id_vars = ['text','length' , 'ind']).drop(['variable'] , axis = 1).dropna()\n",
    "\n",
    "polarity_df = train_df.polarities.apply(pd.Series).merge(train_df , right_index = True , left_index = True)\\\n",
    ".drop(['aspects' , 'polarities'] ,axis = 1)\\\n",
    ".melt(id_vars = ['text','length' , 'ind']).drop(['variable'] , axis = 1).dropna()\n",
    "\n",
    "train_df_ungrp = pd.merge(asp_df , polarity_df['value'] , left_index = True , right_index = True ,suffixes=('_aspects' , '_polarities'))\n",
    "train_df_ungrp.rename(columns={'value_aspects' : 'aspects' , 'value_polarities':'polarities'} , inplace=True)\n",
    "train_df_ungrp.shape"
   ]
  },
  {
   "cell_type": "code",
   "execution_count": 17,
   "metadata": {},
   "outputs": [],
   "source": [
    "test_df_ungrp.to_csv('../data/resturant_test_stratified.csv' , index = False)\n",
    "train_df_ungrp.to_csv('../data/resturant_train_stratified.csv' , index = False)\n",
    "\n",
    "test_df.to_csv('../data/resturant_test_stratified_grouped.csv' , index = False )\n",
    "train_df.to_csv('../data/resturant_train_stratified_grouped.csv' , index = False )"
   ]
  }
 ],
 "metadata": {
  "kernelspec": {
   "display_name": "Python 3",
   "language": "python",
   "name": "python3"
  },
  "language_info": {
   "codemirror_mode": {
    "name": "ipython",
    "version": 3
   },
   "file_extension": ".py",
   "mimetype": "text/x-python",
   "name": "python",
   "nbconvert_exporter": "python",
   "pygments_lexer": "ipython3",
   "version": "3.7.1"
  },
  "toc": {
   "base_numbering": 1,
   "nav_menu": {},
   "number_sections": true,
   "sideBar": true,
   "skip_h1_title": false,
   "title_cell": "Table of Contents",
   "title_sidebar": "Contents",
   "toc_cell": false,
   "toc_position": {},
   "toc_section_display": true,
   "toc_window_display": false
  }
 },
 "nbformat": 4,
 "nbformat_minor": 2
}
