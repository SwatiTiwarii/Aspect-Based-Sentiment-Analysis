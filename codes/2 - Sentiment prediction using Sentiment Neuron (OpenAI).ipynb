{
 "cells": [
  {
   "cell_type": "markdown",
   "metadata": {},
   "source": [
    "# Sentiment classification using Sentiment Neuron"
   ]
  },
  {
   "cell_type": "code",
   "execution_count": 5,
   "metadata": {},
   "outputs": [
    {
     "name": "stdout",
     "output_type": "stream",
     "text": [
      "The autoreload extension is already loaded. To reload it, use:\n",
      "  %reload_ext autoreload\n"
     ]
    }
   ],
   "source": [
    "import sys\n",
    "sys.path.append('/home/FRACTAL/swati.tiwari/generating-reviews-discovering-sentiment-master')\n",
    "\n",
    "from encoder import Model\n",
    "import pandas as pd\n",
    "import numpy as np\n",
    "import csv\n",
    "import time\n",
    "from sklearn.linear_model import LogisticRegression\n",
    "from sklearn.linear_model import SGDClassifier\n",
    "from sklearn.metrics import accuracy_score\n",
    "import pickle\n",
    "import warnings\n",
    "import os\n",
    "import random\n",
    "import utils\n",
    "import matplotlib.pyplot as plt\n",
    "import seaborn as sns\n",
    "sns.set_style(\"darkgrid\")\n",
    "plt.style.use('ggplot')\n",
    "warnings.filterwarnings('ignore')\n",
    "%load_ext autoreload\n",
    "%autoreload 2\n",
    "%matplotlib inline\n",
    "pd.set_option('display.max_colwidth' , -1)"
   ]
  },
  {
   "cell_type": "code",
   "execution_count": 2,
   "metadata": {},
   "outputs": [],
   "source": [
    "aspect_lvl_data = pd.read_csv('Aspect-Based-Sentiment-Analysis/output/aspect_level_test_data.csv')"
   ]
  },
  {
   "cell_type": "markdown",
   "metadata": {},
   "source": [
    "Fork follwoing library to utilize sentiment neuron model - https://github.com/rakeshchada/generating-reviews-discovering-sentiment/blob/master/Sentiment-Neuron-Yelp.ipynb"
   ]
  },
  {
   "cell_type": "code",
   "execution_count": 3,
   "metadata": {
    "scrolled": true
   },
   "outputs": [
    {
     "name": "stdout",
     "output_type": "stream",
     "text": [
      "WARNING:tensorflow:From /home/FRACTAL/swati.tiwari/anaconda3/lib/python3.7/site-packages/tensorflow/python/framework/op_def_library.py:263: colocate_with (from tensorflow.python.framework.ops) is deprecated and will be removed in a future version.\n",
      "Instructions for updating:\n",
      "Colocations handled automatically by placer.\n",
      "WARNING:tensorflow:From /home/FRACTAL/swati.tiwari/kaggle/yelp/code/encoder.py:65: calling l2_normalize (from tensorflow.python.ops.nn_impl) with dim is deprecated and will be removed in a future version.\n",
      "Instructions for updating:\n",
      "dim is deprecated, use axis instead\n",
      "311.371 seconds to transform 725 examples\n"
     ]
    }
   ],
   "source": [
    "model = Model()\n",
    "test_features = model.transform(aspect_lvl_data['sp_text'])\n",
    "test_features = test_features[0]\n",
    "sentiment_neuron_index = 2388\n",
    "aspect_lvl_data['prediction'] = test_features[: , sentiment_neuron_index]"
   ]
  },
  {
   "cell_type": "markdown",
   "metadata": {},
   "source": [
    "Sentiment neuron give result from -2 till 2 , If the result is between 0 - 0.25 then we call it Neutral sentiment , if it is smaller than 0 , then we call it as Negative sentiment other wise Positive Sentiment"
   ]
  },
  {
   "cell_type": "code",
   "execution_count": 9,
   "metadata": {},
   "outputs": [],
   "source": [
    "def map_pred(i):\n",
    "    if i >=0.25: return 'positive' ## positive category\n",
    "    elif i < 0: return 'negative'  ## negative category\n",
    "    else:    return 'neutral' ## neutral category\n",
    "    \n",
    "aspect_lvl_data['y_pred'] = aspect_lvl_data['prediction'].apply(lambda x: map_pred(x))"
   ]
  },
  {
   "cell_type": "code",
   "execution_count": 10,
   "metadata": {},
   "outputs": [],
   "source": [
    "aspect_lvl_data['fn_polarity'] = aspect_lvl_data['y_pred']\n",
    "aspect_lvl_data['fn_aspect'].fillna('anecdotes/miscellaneous' , inplace = True)"
   ]
  },
  {
   "cell_type": "code",
   "execution_count": 13,
   "metadata": {},
   "outputs": [],
   "source": [
    "\"\"\"\n",
    "loading the test data with ground truth value of aspects and setiments.\n",
    "\"\"\"\n",
    "\n",
    "import ast\n",
    "test_grp_df  = pd.read_csv('Aspect-Based-Sentiment-Analysis//data/resturant_test_stratified_grouped.csv')\n",
    "test_grp_df['aspects'] = test_grp_df['aspects'].apply(lambda x: ast.literal_eval(x))\n",
    "test_grp_df['polarities'] = test_grp_df['polarities'].apply(lambda x: ast.literal_eval(x))\n",
    "test_grp_df.reset_index(inplace=True)\n",
    "test_grp_df.rename(columns={'index': 'id'} , inplace=True)"
   ]
  },
  {
   "cell_type": "markdown",
   "metadata": {},
   "source": [
    "### Following steps are perfromed to merge the ground truth data frame with aspect and sentiment prediction "
   ]
  },
  {
   "cell_type": "code",
   "execution_count": 18,
   "metadata": {},
   "outputs": [],
   "source": [
    "df_aspect_pred = aspect_lvl_data.groupby(['id'])['fn_aspect'].apply(lambda x : ' '.join(x)).reset_index()\n",
    "df_polarity_pred = aspect_lvl_data.groupby(['id'])['fn_polarity'].apply(lambda x : ' '.join(x)).reset_index()\n",
    "df_pred = pd.merge(df_aspect_pred , df_polarity_pred , on = ['id'])\n",
    "test_grp_df.rename(columns={'index': 'id'} , inplace=True)\n",
    "test_grp_pred_df = pd.merge(test_grp_df ,df_pred , on = ['id'])\n",
    "test_grp_pred_df['fn_aspect']  = test_grp_pred_df['fn_aspect'].apply(lambda x  : x.split(' '))\n",
    "test_grp_pred_df['fn_polarity']  = test_grp_pred_df['fn_polarity'].apply(lambda x  : x.split(' '))"
   ]
  },
  {
   "cell_type": "code",
   "execution_count": 21,
   "metadata": {},
   "outputs": [],
   "source": [
    "asp_df = test_grp_pred_df.aspects.apply(pd.Series).merge(test_grp_pred_df , right_index = True , left_index = True)\\\n",
    ".drop(['aspects' , 'polarities' , 'text' , 'length' , 'fn_aspect' , 'fn_polarity'] ,axis = 1)\\\n",
    ".melt(id_vars = ['id', 'ind']).drop(['variable'] , axis = 1).dropna()\n",
    "\n",
    "polarity_df = test_grp_pred_df.polarities.apply(pd.Series).merge(test_grp_pred_df , right_index = True , left_index = True)\\\n",
    ".drop(['aspects' , 'polarities' , 'text' , 'length' , 'fn_aspect' , 'fn_polarity'] ,axis = 1)\\\n",
    ".melt(id_vars = ['id', 'ind']).drop(['variable'] , axis = 1).dropna()\n",
    "\n",
    "test_ground_truth = pd.merge(asp_df , polarity_df[['value']] , left_index = True , right_index = True ,suffixes=('_aspects' , '_polarities'))\n",
    "test_ground_truth.rename(columns={'value_aspects' : 'aspects' , 'value_polarities':'polarities'} , inplace=True)"
   ]
  },
  {
   "cell_type": "code",
   "execution_count": 22,
   "metadata": {},
   "outputs": [],
   "source": [
    "asp_df = test_grp_pred_df.fn_aspect.apply(pd.Series).merge(test_grp_pred_df , right_index = True , left_index = True)\\\n",
    ".drop(['aspects' , 'polarities' , 'text' , 'length' , 'fn_aspect' , 'fn_polarity' , 'ind'] ,axis = 1)\\\n",
    ".melt(id_vars = ['id']).drop(['variable'] , axis = 1).dropna()\n",
    "polarity_df = test_grp_pred_df.fn_polarity.apply(pd.Series).merge(test_grp_pred_df , right_index = True , left_index = True)\\\n",
    ".drop(['aspects' , 'polarities' , 'text' , 'length' , 'fn_aspect' , 'fn_polarity' , 'ind'] ,axis = 1)\\\n",
    ".melt(id_vars = ['id']).drop(['variable'] , axis = 1).dropna()\n",
    "\n",
    "test_pred_df = pd.merge(asp_df , polarity_df[['value']] , left_index = True , right_index = True ,suffixes=('_aspects' , '_polarities'))\n",
    "test_pred_df.rename(columns={'value_aspects' : 'aspects' , 'value_polarities':'polarities'} , inplace=True)"
   ]
  },
  {
   "cell_type": "code",
   "execution_count": 23,
   "metadata": {},
   "outputs": [
    {
     "data": {
      "text/plain": [
       "((867, 4), (717, 3))"
      ]
     },
     "execution_count": 23,
     "metadata": {},
     "output_type": "execute_result"
    }
   ],
   "source": [
    "test_ground_truth.sort_values(by = ['id'] , inplace=True)\n",
    "test_pred_df.sort_values(by = ['id'] , inplace=True)\n",
    "test_ground_truth.drop_duplicates(['id', 'aspects'] , inplace=True)\n",
    "test_pred_df.drop_duplicates(['id', 'aspects'] , inplace=True)\n",
    "test_ground_truth.shape , test_pred_df.shape"
   ]
  },
  {
   "cell_type": "markdown",
   "metadata": {},
   "source": [
    "#### We are observing results at text X aspect level for test data.  The following result combine aspect prediction , sentence segmentation and sentiment prediction"
   ]
  },
  {
   "cell_type": "code",
   "execution_count": 24,
   "metadata": {},
   "outputs": [],
   "source": [
    "aspect_sentiment_lvl = pd.merge(test_ground_truth , test_pred_df , on= ['id'  , 'aspects']  , how = 'left' ,suffixes=('' , '_pred'))"
   ]
  },
  {
   "cell_type": "code",
   "execution_count": 37,
   "metadata": {},
   "outputs": [
    {
     "name": "stdout",
     "output_type": "stream",
     "text": [
      "Aspect prediction accuracy 0.8269896193771626\n"
     ]
    }
   ],
   "source": [
    "print('Aspect prediction accuracy' , 1- (test_ground_truth.shape[0]- test_pred_df.shape[0])/test_ground_truth.shape[0])"
   ]
  },
  {
   "cell_type": "code",
   "execution_count": 32,
   "metadata": {},
   "outputs": [
    {
     "name": "stdout",
     "output_type": "stream",
     "text": [
      "Overall sentiment accuracy,  0.45674740484429066\n",
      "Accuracy for only correctly predicted aspect categories  0.6723259762308998\n"
     ]
    }
   ],
   "source": [
    "print( 'Overall sentiment accuracy, ' , np.mean(aspect_sentiment_lvl['polarities']== aspect_sentiment_lvl['polarities_pred']))\n",
    "subset = aspect_sentiment_lvl[aspect_sentiment_lvl['polarities_pred'].notnull()]\n",
    "print('Accuracy for only correctly predicted aspect categories ', np.mean(subset['polarities']== subset['polarities_pred']))"
   ]
  },
  {
   "cell_type": "code",
   "execution_count": 35,
   "metadata": {},
   "outputs": [
    {
     "name": "stdout",
     "output_type": "stream",
     "text": [
      "F1 score 0.5839993775287892\n",
      "[[ 94  25  18]\n",
      " [ 32  34  21]\n",
      " [ 43  54 268]]\n"
     ]
    }
   ],
   "source": [
    "from sklearn.metrics import f1_score ,  recall_score , precision_score , confusion_matrix\n",
    "print( 'F1 score' , f1_score(subset['polarities'] , subset['polarities_pred'] , average='macro'))\n",
    "print(confusion_matrix(subset['polarities'] , subset['polarities_pred'] ))"
   ]
  }
 ],
 "metadata": {
  "kernelspec": {
   "display_name": "Python 3",
   "language": "python",
   "name": "python3"
  },
  "language_info": {
   "codemirror_mode": {
    "name": "ipython",
    "version": 3
   },
   "file_extension": ".py",
   "mimetype": "text/x-python",
   "name": "python",
   "nbconvert_exporter": "python",
   "pygments_lexer": "ipython3",
   "version": "3.7.1"
  },
  "toc": {
   "base_numbering": 1,
   "nav_menu": {},
   "number_sections": true,
   "sideBar": true,
   "skip_h1_title": false,
   "title_cell": "Table of Contents",
   "title_sidebar": "Contents",
   "toc_cell": false,
   "toc_position": {},
   "toc_section_display": true,
   "toc_window_display": false
  }
 },
 "nbformat": 4,
 "nbformat_minor": 2
}
